{
 "cells": [
  {
   "cell_type": "markdown",
   "id": "ff36d141-7b89-4912-bf71-35a5e27471bc",
   "metadata": {},
   "source": [
    "# Theory Wuestions"
   ]
  },
  {
   "cell_type": "markdown",
   "id": "0cb49f02-4c6b-4981-a2ff-b191bc9bacf2",
   "metadata": {},
   "source": [
    "# 1. What is the difference between interpreted and compiled languages?\n",
    "Ans - .Interpreted languages :\n",
    "        -> The source code is executed line by line by an interpreter.\n",
    "        -> Slower execution but easier to debug and test.\n",
    "        -> Examples : Python, Javascript\n",
    "      .Compiled languages\n",
    "        -> The source code is translated into machine code by a compiler before execution.\n",
    "        -> Faster execution because the machine code is directly run by the CPU.\n",
    "        -> Examoles : C, C++, Rust."
   ]
  },
  {
   "cell_type": "markdown",
   "id": "8a7082f1-58e7-4586-aa17-cc76af669306",
   "metadata": {},
   "source": [
    "# 2. What is exeception handling in Python?\n",
    "Ans - Exception handling is a mechanism to handle runtime errors gracefully using try, except, else, and finally blocks."
   ]
  },
  {
   "cell_type": "markdown",
   "id": "20ecb317-fd0e-45d1-a3b7-2d4b16d4cbf2",
   "metadata": {},
   "source": [
    "# 3. What is the purpose of the finally block in exception handling?\n",
    "Ans - The finally block always executes after try and except blocks, regardless of whether an exception occurred. It's used for cleanup code that must run in all cases."
   ]
  },
  {
   "cell_type": "markdown",
   "id": "709f11f4-7575-4a20-9b0c-a93f2d64feeb",
   "metadata": {},
   "source": [
    "# 4. What is logging in Python?\n",
    "Ans - Logging is a module that provides a flexible framework for emitting log messages from Python programs, allowing tracking of events and debugging."
   ]
  },
  {
   "cell_type": "markdown",
   "id": "7dd6ae92-bf58-406d-8d7b-3b6cd78eb758",
   "metadata": {},
   "source": [
    "# 5. What is the significance of the __del__ method in Python?\n",
    "Ans - __del__ is a destructor method called when an object is about to be destroyed. It's used for cleanup operations before garbage collection.\n"
   ]
  },
  {
   "cell_type": "markdown",
   "id": "169c753c-465c-48d1-b88e-1557230c2825",
   "metadata": {},
   "source": [
    "# 6. What is the difference between import and from ... import in Python?\n",
    "Ans - import module imports the entire module, while from module import name imports specific names directly into the current namespace."
   ]
  },
  {
   "cell_type": "markdown",
   "id": "886dd1bc-94fb-42d8-bf4f-2e7fd080dc43",
   "metadata": {},
   "source": [
    "# 7. How can you handle multiple exception in Python?\n",
    "Ans - Catch each exception separately (different handling logic for each).\n",
    " Catch multiple exceptions in a single except block (same handling logic).\n",
    " Catch all exceptions (generic handler, usually discouraged unless necessary)."
   ]
  },
  {
   "cell_type": "markdown",
   "id": "2c02fbc2-ba18-4474-804a-3db77f4c72bd",
   "metadata": {},
   "source": [
    "# 8. What is the purpose of the with statement when handling files in Python?\n",
    "Ans - The with statement simplifies file handling by automatically managing resources. It ensures that the file is properly opened and closed, even if an error occurs. This eliminates the need for manually closing the file with file.close(). Example: with open('file.txt', 'r') as file: content = file.read() Here, the file is automatically closed after reading, even if an exception is raised."
   ]
  },
  {
   "cell_type": "markdown",
   "id": "4d633280-c32d-4bc5-b1e2-4bcfa58c5909",
   "metadata": {},
   "source": [
    "# 9. What is the difference between multithreading and multiprocessing?\n",
    "Ans - Multithreading: Runs multiple threads (smaller tasks) within a single process. Good for I/O-bound tasks (like reading files, network requests) but doesn't fully utilize multiple CPU cores due to Python's Global Interpreter Lock (GIL).\n",
    "\n",
    "Multiprocessing: Runs multiple processes, each with its own memory and Python interpreter. It’s ideal for CPU-bound tasks, as it can utilize multiple CPU cores."
   ]
  },
  {
   "cell_type": "markdown",
   "id": "0c23dfa1-c460-4f7e-bdf1-c8f31cc34b4a",
   "metadata": {},
   "source": [
    "# 10. What are the advantages of using logging in a program?\n",
    "Ans - The advantages of using logging in a program include:\n",
    "\n",
    "Error Tracking: Helps identify and track errors and exceptions in your program.\n",
    "Debugging: Provides insights into program flow and variable values, aiding debugging.\n",
    "Persistence: Logs can be saved to a file, which makes it easy to review past events.\n",
    "Customization: You can set different log levels (e.g., INFO, WARNING, ERROR) to filter messages.\n",
    "Non-intrusive: Unlike print() statements, logs are less disruptive and can be disabled or redirected without changing the code."
   ]
  },
  {
   "cell_type": "markdown",
   "id": "f0545e63-0de8-4237-9d0b-66463c10765f",
   "metadata": {},
   "source": [
    "# 11. What is memory management in Python?\n",
    "Ans -  Memory management in Python involves automatically allocating and freeing memory using a garbage collection system. Key features include:\n",
    "\n",
    "Automatic memory allocation: Python handles memory allocation for variables and objects.\n",
    "Garbage collection: Unused objects are automatically cleaned up to free memory.\n",
    "Reference counting: Python tracks how many references exist for an object to determine when it’s no longer needed and can be deleted.\n",
    "Memory pools: Python uses memory pools to manage memory more efficiently and reduce fragmentation."
   ]
  },
  {
   "cell_type": "markdown",
   "id": "9222bcf0-c2e8-40d0-b960-6b1e068120ce",
   "metadata": {},
   "source": [
    "# 12. What are the basic steps involved in exception handling in Python?\n",
    "Ans - The basic steps involved in exception handling in Python are:\n",
    "\n",
    "Try Block: Wrap the code that might raise an exception inside a try block.\n",
    "Except Block: Catch and handle specific exceptions using an except block.\n",
    "Else Block: (Optional) Run code if no exception occurs.\n",
    "Finally Block: (Optional) Execute code that must run, regardless of whether an exception occurred (e.g., clean-up tasks). "
   ]
  },
  {
   "cell_type": "markdown",
   "id": "47e0dd42-a15e-4772-a5ca-bca15b7eb024",
   "metadata": {},
   "source": [
    "# 13. Why is memory management important in Python?\n",
    "Ans -  Memory management is important in Python for several reasons: Efficient Resource Use: Proper memory management ensures the program uses system memory effectively, preventing memory leaks and reducing unnecessary memory consumption.\n",
    "\n",
    "Performance: Efficient memory handling helps the program run faster and avoids slowdowns due to excessive memory usage.\n",
    "\n",
    "Garbage Collection: Python automatically manages memory with its garbage collection system, ensuring objects are cleaned up when no longer needed, which helps in maintaining optimal performance.\n",
    "\n",
    "Avoid Crashes: Poor memory management can lead to crashes or unexpected behavior due to running out of memory.\n",
    "\n",
    "Scalability: As programs grow, proper memory management ensures they can scale without running into memory-related issues."
   ]
  },
  {
   "cell_type": "markdown",
   "id": "aa297844-fe55-4954-b6ef-ef185fc9c5e2",
   "metadata": {},
   "source": [
    "# 14. What is the role of try and except in exception handling?\n",
    "Ans - In exception handling, the role of try and except is: try: It contains the code that might raise an exception. Python attempts to run this code.\n",
    "\n",
    "except: If an exception occurs in the try block, the except block catches and handles it, preventing the program from crashing. You can specify the type of exception you want to catch (e.g., except ZeroDivisionError:)."
   ]
  },
  {
   "cell_type": "markdown",
   "id": "73b8b85c-7ced-4c3b-a718-3869ef70ed25",
   "metadata": {},
   "source": [
    "# 15. How does Python's garbage collection system work?\n",
    "Ans - Python's garbage collection system works through reference counting and cyclic garbage collection:\n",
    "\n",
    "Reference Counting: Every object in Python has a reference count, which tracks how many references point to it. When the reference count drops to zero (no references to the object), Python automatically frees the memory used by that object.\n",
    "\n",
    "Cyclic Garbage Collection: Python also detects and handles reference cycles (e.g., objects referencing each other in a cycle). The gc module helps in this process, periodically checking for circular references and cleaning them up."
   ]
  },
  {
   "cell_type": "markdown",
   "id": "78be10d5-f620-40b7-80bd-1cfeade7724e",
   "metadata": {},
   "source": [
    "# 16. What is the purpose of the else block in exception handling?\n",
    "Ans - The else block in exception handling is used to define code that should run only if no exception was raised in the try block. It allows you to separate the error-handling code from the regular code that should execute when everything works fine"
   ]
  },
  {
   "cell_type": "markdown",
   "id": "bc874fe7-4391-4374-8c1f-62074577298c",
   "metadata": {},
   "source": [
    "# 17. What are the common logging levels in Python?\n",
    "Ans - The common logging levels in Python, in order of increasing severity, are:\n",
    "\n",
    "DEBUG: Detailed information, typically useful for diagnosing issues. This is the lowest level.\n",
    "INFO: General information about the program’s execution, used to track the progress.\n",
    "WARNING: Indicates something unexpected, but the program can still continue running.\n",
    "ERROR: Indicates a more serious problem, but the program can still run.\n",
    "CRITICAL: A very serious error, often causing the program to terminate. Each level filters messages of that level and higher. For example, setting the log level to WARNING will show only WARNING, ERROR, and CRITICAL messages."
   ]
  },
  {
   "cell_type": "markdown",
   "id": "b5bc032d-9ae4-448d-a8ed-2d234cb1120b",
   "metadata": {},
   "source": [
    "# 18. What is the difference between os.fork() and multiprocessing in Python?\n",
    "Ans - The main differences between os.fork() and the multiprocessing module in Python are:\n",
    "\n",
    "os.fork():\n",
    "Creates a child process by duplicating the parent process. Available only on Unix-based systems (Linux, macOS). The child process gets a copy of the parent’s memory space. It’s lower-level and requires manual management of processes and resources.\n",
    "\n",
    "multiprocessing:\n",
    "Provides a higher-level API for creating and managing processes. Works across different platforms (Linux, macOS, Windows). Handles process creation, synchronization, and communication more easily (e.g., through queues, pipes). Uses separate memory space for each process, preventing memory sharing issues."
   ]
  },
  {
   "cell_type": "markdown",
   "id": "b75cbacd-3c60-41e0-9a92-0d1dcbac75df",
   "metadata": {},
   "source": [
    "# 19. What is the importance of closing a file in Python?\n",
    "Ans - Closing a file in Python is important for several reasons:\n",
    "\n",
    "Resource Management: When a file is open, it uses system resources (like memory and file handles). Closing the file releases those resources, preventing resource leaks.\n",
    "\n",
    "Data Integrity: When writing to a file, data might not be written immediately to disk. Closing the file ensures that all data is properly flushed and saved to the file.\n",
    "\n",
    "Avoiding Errors: Keeping files open can cause issues, especially if you try to open them again or perform other operations on them. Closing the file helps avoid such errors."
   ]
  },
  {
   "cell_type": "markdown",
   "id": "ddf9d6dd-57ac-43b1-8a32-28db681d8f44",
   "metadata": {},
   "source": [
    "# 20. What is the difference between file.read() and file.readline() in Python?\n",
    "Ans - The difference between file.read() and file.readline() in Python is: file.read():\n",
    "\n",
    "Reads the entire content of the file as a single string. It loads everything at once, which can be inefficient for large files. Example:\n",
    "\n",
    "with open('file.txt', 'r') as file: content = file.read() file.readline():\n",
    "\n",
    "Reads one line at a time from the file. It’s more memory-efficient for large files because it only loads one line into memory at a time. Example:\n",
    "\n",
    "with open('file.txt', 'r') as file: line = file.readline() print(line)"
   ]
  },
  {
   "cell_type": "markdown",
   "id": "fd5bf686-e9c5-47f9-b7b5-43fa541d67b4",
   "metadata": {},
   "source": [
    "# 21. What is the logging module in Python used for?\n",
    "Ans - The logging module in Python is used for tracking and recording events that happen during the execution of a program. It allows you to log messages of different severity levels (e.g., debug, info, warning, error, and critical), which helps with:\n",
    "\n",
    "Debugging: By tracking the flow of execution and variables, it aids in identifying issues.\n",
    "Error Reporting: It provides a way to log errors, making it easier to monitor and fix problems.\n",
    "Monitoring: Logs can be used for ongoing monitoring of program behavior, especially in production environments.\n",
    "Persistence: Logs can be written to files, allowing you to review past events and behaviors of the program. The logging module is more flexible and configurable compared to simple print() statements"
   ]
  },
  {
   "cell_type": "markdown",
   "id": "9ec677c2-45a4-4ce6-a372-efbe863ca16b",
   "metadata": {},
   "source": [
    "# 22. What is the os module in Python used for in file handling?\n",
    "Ans - The os module in Python is used for interacting with the operating system, and in file handling, it provides functions to perform tasks like: File and Directory Manipulation:\n",
    "\n",
    "os.mkdir() and os.makedirs() for creating directories. os.remove() for deleting files. os.rename() for renaming files or directories. os.rmdir() and os.removedirs() for removing directories. Path Operations:\n",
    "\n",
    "os.path.exists() to check if a file or directory exists. os.path.join() to join paths in a cross-platform way. os.path.basename() and os.path.dirname() to get the file or directory name from a path. os.path.abspath() to get the absolute path of a file. Working with the Current Directory:\n",
    "\n",
    "os.getcwd() to get the current working directory. os.chdir() to change the current working directory. Listing Files:\n",
    "\n",
    "os.listdir() to list all files and directories in a given directory. Example of using the os module for file handling:"
   ]
  },
  {
   "cell_type": "markdown",
   "id": "620fa6e5-7ce6-4bde-8258-17f0eb7cae42",
   "metadata": {},
   "source": [
    "# 23. What are the challenges associated with memory management in Python?\n",
    "Ans - Memory management in Python, while automated, comes with some challenges: Garbage Collection Overhead:\n",
    "\n",
    "Python uses reference counting and cyclic garbage collection, which can introduce performance overhead, especially in large applications with many objects. The garbage collector might not run immediately, leading to potential memory spikes. Reference Cycles:\n",
    "\n",
    "Objects that reference each other in a cycle (e.g., two objects pointing to each other) may not be cleaned up by reference counting alone. While Python’s cyclic garbage collector helps, managing these cycles can still be tricky. Memory Fragmentation:\n",
    "\n",
    "While Python’s memory management reduces fragmentation, it can still occur over time. This issue arises when small memory blocks are allocated and freed in ways that prevent large contiguous blocks of memory from being used efficiently. Memory Leaks:\n",
    "\n",
    "Despite automatic memory management, memory leaks can occur if objects are unintentionally held in memory (e.g., through circular references that aren’t collected). This can lead to the application consuming more memory over time. Large Object Management:"
   ]
  },
  {
   "cell_type": "markdown",
   "id": "e8964a1f-2977-4cb3-b110-3f3a242e7e96",
   "metadata": {},
   "source": [
    "# 24. How do you raise an exception manually in Python?\n",
    "Ans - In Python, we can raise an exception manually using the raise keyword. You can raise built-in exceptions or create your own custom exceptions. Here's how to do both:\n",
    "\n",
    "Raising a Built-in Exception: raise Exception(\"This is a custom error message.\")\n",
    "Raising a Specific Built-in Exception: raise ValueError(\"This is a ValueError.\")\n",
    "Raising a Custom Exception: You can also create your own custom exceptions by subclassing the built-in Exception class."
   ]
  },
  {
   "cell_type": "markdown",
   "id": "0214a501-2756-432b-9345-64a642cc8371",
   "metadata": {},
   "source": [
    "# 25. Why is it important to use multithreading in certain applications?\n",
    "Ans - Multithreading is important in certain applications for the following reasons: Improved Performance for I/O-bound Tasks:\n",
    "\n",
    "In applications that spend a lot of time waiting for external resources (like reading from files, making network requests, or waiting for database queries), multithreading can help by running multiple tasks concurrently. This improves the efficiency of the application by not wasting time waiting for I/O operations to complete. Responsiveness in User Interfaces:\n",
    "\n",
    "For graphical user interfaces (GUIs) or interactive applications, multithreading can ensure that the main thread remains responsive to user actions while other threads handle tasks like background data processing or network communication. Concurrency:\n",
    "\n",
    "Multithreading allows multiple threads to run at the same time (in environments that support true parallelism, like multi-core CPUs). This can make applications more efficient by splitting tasks and executing them concurrently, though the extent of parallelism is limited in Python due to the Global Interpreter Lock (GIL) for CPU-bound tasks. "
   ]
  },
  {
   "cell_type": "markdown",
   "id": "e33b8c7d-576b-461f-9aa8-403a83657657",
   "metadata": {},
   "source": [
    "# Practical Questions"
   ]
  },
  {
   "cell_type": "markdown",
   "id": "0120a770-2a00-4434-9942-5422c4ea7b86",
   "metadata": {},
   "source": [
    "# 1. How can you open a file for writing in Python and write a string to it?"
   ]
  },
  {
   "cell_type": "code",
   "execution_count": 2,
   "id": "50c212de-42b0-4ec6-a848-87e324260a95",
   "metadata": {},
   "outputs": [],
   "source": [
    "with open('file.txt', 'w') as f:\n",
    "    f.write(\"Hello, World!\")"
   ]
  },
  {
   "cell_type": "markdown",
   "id": "4a638a82-2709-4c8a-ac44-eb7517b90fec",
   "metadata": {},
   "source": [
    "# 2. Write a Python program to read the contents of a file and print each line."
   ]
  },
  {
   "cell_type": "code",
   "execution_count": 3,
   "id": "741a3651-8e8f-418e-8854-33be8beeba0d",
   "metadata": {},
   "outputs": [
    {
     "name": "stdout",
     "output_type": "stream",
     "text": [
      "Hello, World!"
     ]
    }
   ],
   "source": [
    "with open('file.txt', 'r') as f:\n",
    "    for line in f:\n",
    "        print(line, end='')"
   ]
  },
  {
   "cell_type": "markdown",
   "id": "75480a19-fd61-4623-88e8-b2d9b8455596",
   "metadata": {},
   "source": [
    "# 3. How would you handle a case where the file doesn't exist while trying to open it for reading?"
   ]
  },
  {
   "cell_type": "code",
   "execution_count": 7,
   "id": "05953472-bd88-4de7-a6e7-087ae0686d19",
   "metadata": {},
   "outputs": [
    {
     "name": "stdout",
     "output_type": "stream",
     "text": [
      "File not found\n"
     ]
    }
   ],
   "source": [
    "try:\n",
    "    with open('nonexistent.txt', 'r') as f:\n",
    "        content = f.read()\n",
    "except FileNotFoundError:\n",
    "    print(\"File not found\")"
   ]
  },
  {
   "cell_type": "markdown",
   "id": "55089900-c9ea-49f0-ad16-c10ff832f49c",
   "metadata": {},
   "source": [
    "# 4. Write a Python script that reads from one file and writes its content to another file."
   ]
  },
  {
   "cell_type": "code",
   "execution_count": 11,
   "id": "986a18fc-6f9c-414a-97d0-068391f4875b",
   "metadata": {},
   "outputs": [
    {
     "name": "stdout",
     "output_type": "stream",
     "text": [
      "Content has been copied from 'source.txt' to 'destination.txt'.\n"
     ]
    }
   ],
   "source": [
    "\n",
    "with open('source.txt', 'w') as source_file_setup:\n",
    "    source_file_setup.write(\"This is the content of the source file.\")\n",
    "\n",
    "\n",
    "with open('source.txt', 'r') as source_file, open('destination.txt', 'w') as dest_file:\n",
    "    \n",
    "    content = source_file.read()\n",
    "    dest_file.write(content)\n",
    "\n",
    "print(\"Content has been copied from 'source.txt' to 'destination.txt'.\")"
   ]
  },
  {
   "cell_type": "markdown",
   "id": "66c51783-c9d8-4e76-8628-357cb48bb936",
   "metadata": {},
   "source": [
    "# 5. How would you catch and handle division by zero error in Python?"
   ]
  },
  {
   "cell_type": "code",
   "execution_count": 12,
   "id": "cb56cb40-3bba-4911-8a3f-a48b5528a7ac",
   "metadata": {},
   "outputs": [
    {
     "name": "stdout",
     "output_type": "stream",
     "text": [
      "Cannot divide bt zero\n"
     ]
    }
   ],
   "source": [
    "try:\n",
    "    result = 10 / 0\n",
    "except ZeroDivisionError:\n",
    "    print(\"Cannot divide bt zero\")"
   ]
  },
  {
   "cell_type": "markdown",
   "id": "0dada3ca-851d-46e9-97db-cca323e797ef",
   "metadata": {},
   "source": [
    "# 6. Write a Python program that logs an error message to a log file when a division by zero exception occurs."
   ]
  },
  {
   "cell_type": "code",
   "execution_count": 15,
   "id": "7c7278b4-a473-441f-8762-0cc76b38c63e",
   "metadata": {},
   "outputs": [
    {
     "name": "stdout",
     "output_type": "stream",
     "text": [
      "Error: Cannot divide by zero. Check the log file for details.\n"
     ]
    }
   ],
   "source": [
    "import logging\n",
    "\n",
    "\n",
    "logging.basicConfig(filename='error_log.txt', level=logging.ERROR,\n",
    "                    format='%(asctime)s - %(levelname)s - %(message)s')\n",
    "\n",
    "try:\n",
    "  \n",
    "    result = 10 / 0\n",
    "except ZeroDivisionError as e:\n",
    "  \n",
    "    logging.error(f\"Division by zero error: {e}\")\n",
    "    print(\"Error: Cannot divide by zero. Check the log file for details.\")"
   ]
  },
  {
   "cell_type": "markdown",
   "id": "a31b3fad-3db2-47e6-8f90-16e39abff0dd",
   "metadata": {},
   "source": [
    "# 7. How do you log information at different levels (INFO, ERROR, WARNING) in Python using the logging module?"
   ]
  },
  {
   "cell_type": "code",
   "execution_count": 26,
   "id": "0eba7857-baab-49ad-a99a-ae98f444894c",
   "metadata": {},
   "outputs": [
    {
     "name": "stderr",
     "output_type": "stream",
     "text": [
      "2025-08-12 13:00:51,740 - INFO - This is an INFO message – useful for general information.\n",
      "2025-08-12 13:00:51,741 - WARNING - This is a WARNING message – something might go wrong.\n",
      "2025-08-12 13:00:51,744 - ERROR - This is an ERROR message – something went wrong.\n"
     ]
    }
   ],
   "source": [
    "import logging\n",
    "\n",
    "\n",
    "logging.basicConfig(\n",
    "    level=logging.DEBUG, \n",
    "    format='%(asctime)s - %(levelname)s - %(message)s',\n",
    "    force=True  \n",
    ")\n",
    "\n",
    "\n",
    "logging.info(\"This is an INFO message – useful for general information.\")\n",
    "logging.warning(\"This is a WARNING message – something might go wrong.\")\n",
    "logging.error(\"This is an ERROR message – something went wrong.\")"
   ]
  },
  {
   "cell_type": "markdown",
   "id": "f9652ab9-f23c-438e-bf17-29e5791f8512",
   "metadata": {},
   "source": [
    "# 8. Write a program to handle a file opening error using exception handling."
   ]
  },
  {
   "cell_type": "code",
   "execution_count": 27,
   "id": "3f1826a8-f096-4973-89ce-43262042161a",
   "metadata": {},
   "outputs": [
    {
     "name": "stdout",
     "output_type": "stream",
     "text": [
      "IOError: [Errno 2] No such file or directory: 'missing.txt'\n"
     ]
    }
   ],
   "source": [
    "try:\n",
    "    with open('missing.txt', 'r') as f:\n",
    "        print(f.read())\n",
    "except IOError as e:\n",
    "    print(f\"IOError: {e}\")"
   ]
  },
  {
   "cell_type": "markdown",
   "id": "63629ef8-34c5-4df9-b1e0-376b2d5805d7",
   "metadata": {},
   "source": [
    "# 9. How can you read a file line by line and store its content in a list in Python?"
   ]
  },
  {
   "cell_type": "code",
   "execution_count": 30,
   "id": "ab94e061-e292-48d1-aca8-da49c32f357a",
   "metadata": {},
   "outputs": [
    {
     "name": "stdout",
     "output_type": "stream",
     "text": [
      "['Hello, this is a test string!', 'This is new data appended to the file.']\n"
     ]
    }
   ],
   "source": [
    "\n",
    "with open('example.txt', 'r') as file:\n",
    "   \n",
    "    lines = [line.strip() for line in file]\n",
    "\n",
    "print(lines)"
   ]
  },
  {
   "cell_type": "markdown",
   "id": "b11b130a-21a7-4d80-b7cc-c6b6c164be51",
   "metadata": {},
   "source": [
    "# 10. How can you append data to an existing file in Python?"
   ]
  },
  {
   "cell_type": "code",
   "execution_count": 31,
   "id": "876e1a14-958b-41b5-863c-b5cd8934160f",
   "metadata": {},
   "outputs": [
    {
     "name": "stdout",
     "output_type": "stream",
     "text": [
      "Data has been appended to 'example.txt'.\n"
     ]
    }
   ],
   "source": [
    "\n",
    "with open('example.txt', 'a') as file:\n",
    "   \n",
    "    file.write(\"\\nThis is new data appended to the file.\")\n",
    "\n",
    "print(\"Data has been appended to 'example.txt'.\")"
   ]
  },
  {
   "cell_type": "markdown",
   "id": "c8f9cb62-8e1e-43e4-b4e3-7d05ca3b8f69",
   "metadata": {},
   "source": [
    "# 11. Write a Python program that uses a try-except block to handle an error when attempting to access a dictionary key that doesn't exist."
   ]
  },
  {
   "cell_type": "code",
   "execution_count": 34,
   "id": "16ba55bf-276c-44d6-91a2-cb1ac47b3ed9",
   "metadata": {},
   "outputs": [
    {
     "name": "stdout",
     "output_type": "stream",
     "text": [
      "Error: Key 'address' not found in the dictionary.\n"
     ]
    }
   ],
   "source": [
    "\n",
    "my_dict = {\"name\": \"Alice\", \"age\": 25}\n",
    "\n",
    "\n",
    "try:\n",
    "    value = my_dict[\"address\"]\n",
    "except KeyError as e:\n",
    "    print(f\"Error: Key '{e.args[0]}' not found in the dictionary.\")\n",
    "     "
   ]
  },
  {
   "cell_type": "markdown",
   "id": "4ebb4d0a-9301-4c51-b230-35c3d49fdbfc",
   "metadata": {},
   "source": [
    "# 12. Write a program that demonstrates using multiple except blocks to handle different types of exceptions."
   ]
  },
  {
   "cell_type": "code",
   "execution_count": 40,
   "id": "5cf1b08b-7c41-43f8-803f-ba3ac16a48dd",
   "metadata": {},
   "outputs": [
    {
     "name": "stdin",
     "output_type": "stream",
     "text": [
      "Enter a number to divide:  50\n",
      "Enter a divisor:  5\n"
     ]
    },
    {
     "name": "stdout",
     "output_type": "stream",
     "text": [
      "Result of 50 / 5 = 10.0\n"
     ]
    }
   ],
   "source": [
    "try:\n",
    "   \n",
    "    num = int(input(\"Enter a number to divide: \"))\n",
    "    divisor = int(input(\"Enter a divisor: \"))\n",
    "\n",
    "   \n",
    "    result = num / divisor\n",
    "\n",
    "   \n",
    "    print(f\"Result of {num} / {divisor} = {result}\")\n",
    "\n",
    "except ValueError:\n",
    "    print(\"Error: Please enter a valid integer.\")\n",
    "\n",
    "except ZeroDivisionError:\n",
    "    print(\"Error: Division by zero is not allowed.\")\n",
    "\n",
    "except Exception as e:\n",
    "    print(f\"An unexpected error occurred: {e}\")\n"
   ]
  },
  {
   "cell_type": "markdown",
   "id": "5eb11026-2ec7-4d12-9561-8461c8f7b52e",
   "metadata": {},
   "source": [
    "# 13. How would you check if a file exists before attempting to read it in Python?"
   ]
  },
  {
   "cell_type": "code",
   "execution_count": 41,
   "id": "a222784c-da8e-4e77-8a0c-1003eba4e0ea",
   "metadata": {},
   "outputs": [
    {
     "name": "stdout",
     "output_type": "stream",
     "text": [
      "Hello, this is a test string!\n",
      "This is new data appended to the file.\n",
      "This is new data appended to the file.\n"
     ]
    }
   ],
   "source": [
    "import os\n",
    "\n",
    "\n",
    "file_path = \"example.txt\"\n",
    "\n",
    "\n",
    "if os.path.exists(file_path):\n",
    "    with open(file_path, 'r') as file:\n",
    "        content = file.read()\n",
    "        print(content)\n",
    "else:\n",
    "    print(f\"The file '{file_path}' does not exist.\")"
   ]
  },
  {
   "cell_type": "markdown",
   "id": "37db188e-db90-4888-a603-f27ca8327fc8",
   "metadata": {},
   "source": []
  },
  {
   "cell_type": "markdown",
   "id": "fa383221-2095-422d-b18c-40ecbafddb58",
   "metadata": {},
   "source": [
    "# 14. Write a program that uses the logging module to log both informational and error messages."
   ]
  },
  {
   "cell_type": "code",
   "execution_count": 43,
   "id": "7fd09809-e170-4efc-90c4-8f975e530955",
   "metadata": {},
   "outputs": [
    {
     "name": "stderr",
     "output_type": "stream",
     "text": [
      "2025-08-12 13:14:00,532 - INFO - This is an informational message.\n",
      "2025-08-12 13:14:00,534 - ERROR - An error occurred: division by zero\n"
     ]
    }
   ],
   "source": [
    "import logging\n",
    "\n",
    "\n",
    "logging.basicConfig(\n",
    "    level=logging.DEBUG,  # Log all levels (DEBUG, INFO, WARNING, ERROR, CRITICAL)\n",
    "    format='%(asctime)s - %(levelname)s - %(message)s',  # Log format\n",
    "    handlers=[\n",
    "        logging.FileHandler('app.log'),  # Log to a file\n",
    "        logging.StreamHandler()  # Also print to the console\n",
    "    ]\n",
    ")\n",
    "\n",
    "\n",
    "logging.info(\"This is an informational message.\")\n",
    "\n",
    "\n",
    "try:\n",
    "    x = 10 / 0\n",
    "except ZeroDivisionError as e:\n",
    "   \n",
    "    logging.error(f\"An error occurred: {e}\")"
   ]
  },
  {
   "cell_type": "markdown",
   "id": "e31c41a2-648d-46bb-a789-e0d2e3e93e6e",
   "metadata": {},
   "source": [
    "# 15. Write a Python program that prints the content of a file and handles the case when the file is empty."
   ]
  },
  {
   "cell_type": "code",
   "execution_count": 45,
   "id": "5075c052-5511-4c50-880e-f8b779991262",
   "metadata": {},
   "outputs": [
    {
     "name": "stdout",
     "output_type": "stream",
     "text": [
      "Content of the file 'example.txt':\n",
      "Hello, this is a test string!\n",
      "This is new data appended to the file.\n",
      "This is new data appended to the file.\n"
     ]
    }
   ],
   "source": [
    "\n",
    "file_path = \"example.txt\"\n",
    "\n",
    "try:\n",
    "   \n",
    "    with open(file_path, 'r') as file:\n",
    "        content = file.read().strip() \n",
    "\n",
    "        \n",
    "        if not content:\n",
    "            print(f\"The file '{file_path}' is empty.\")\n",
    "        else:\n",
    "            print(f\"Content of the file '{file_path}':\")\n",
    "            print(content)\n",
    "\n",
    "except FileNotFoundError:\n",
    "    print(f\"Error: The file '{file_path}' does not exist.\")\n",
    "except Exception as e:\n",
    "    print(f\"An unexpected error occurred: {e}\")"
   ]
  },
  {
   "cell_type": "markdown",
   "id": "85d9daea-0b0c-4e05-a024-0bb2da567905",
   "metadata": {},
   "source": [
    "# 16. Demonstrate how to use memory profiling to check the memory usage of a small program."
   ]
  },
  {
   "cell_type": "code",
   "execution_count": 16,
   "id": "85131574-39e6-417d-a5d5-55198242e35e",
   "metadata": {},
   "outputs": [
    {
     "name": "stdout",
     "output_type": "stream",
     "text": [
      "Defaulting to user installation because normal site-packages is not writeable\n",
      "Requirement already satisfied: memory_profiler in c:\\users\\mayuresh\\appdata\\roaming\\python\\python312\\site-packages (0.61.0)\n",
      "Requirement already satisfied: psutil in c:\\programdata\\anaconda3\\lib\\site-packages (from memory_profiler) (5.9.0)\n",
      "The memory_profiler extension is already loaded. To reload it, use:\n",
      "  %reload_ext memory_profiler\n",
      "peak memory: 158.13 MiB, increment: 41.79 MiB\n",
      "ERROR: Could not find file C:\\Users\\MAYURESH\\AppData\\Local\\Temp\\ipykernel_18056\\1082218973.py\n",
      "\n"
     ]
    },
    {
     "data": {
      "text/plain": [
       "333332833333500000"
      ]
     },
     "execution_count": 16,
     "metadata": {},
     "output_type": "execute_result"
    },
    {
     "data": {
      "text/plain": []
     },
     "metadata": {},
     "output_type": "display_data"
    }
   ],
   "source": [
    "!pip install memory_profiler\n",
    "%load_ext memory_profiler\n",
    "def create_large_list():\n",
    "    nums = [x**2 for x in range(10**6)]\n",
    "    return sum(nums)\n",
    "\n",
    "%memit create_large_list()\n",
    "%mprun -f create_large_list\n",
    "create_large_list()"
   ]
  },
  {
   "cell_type": "markdown",
   "id": "f8a6358a-36c4-4ae0-9fe5-890a41a6b7ba",
   "metadata": {},
   "source": [
    "# 17. Write a Python program to create and write a list of numbers to a file, one number per line."
   ]
  },
  {
   "cell_type": "code",
   "execution_count": 10,
   "id": "9824a1ba-bb15-44e1-bc69-61d053c50aea",
   "metadata": {},
   "outputs": [
    {
     "name": "stdout",
     "output_type": "stream",
     "text": [
      "Successfully wrote numbers to my_numbers.txt\n"
     ]
    }
   ],
   "source": [
    "numbers_list = [10, 20, 30, 40, 50]\n",
    "\n",
    "\n",
    "file_name = \"my_numbers.txt\"\n",
    "\n",
    "\n",
    "\n",
    "with open(file_name, 'w') as file:\n",
    "    \n",
    "    for number in numbers_list:\n",
    "       \n",
    "        file.write(f\"{number}\\n\")\n",
    "\n",
    "\n",
    "print(f\"Successfully wrote numbers to {file_name}\")"
   ]
  },
  {
   "cell_type": "markdown",
   "id": "041d8d4b-f95b-41da-83dc-f86fcf8771d3",
   "metadata": {},
   "source": [
    "# 18. How would you implement a basic logging setup that logs to a file with rotation after 1MB?\n"
   ]
  },
  {
   "cell_type": "code",
   "execution_count": 1,
   "id": "d586694e-e10b-432a-9a25-473f4c42d695",
   "metadata": {},
   "outputs": [
    {
     "name": "stderr",
     "output_type": "stream",
     "text": [
      "INFO: Notebook logger initialized.\n",
      "DEBUG: This is a debug message.\n",
      "WARNING: This is a warning.\n",
      "ERROR: This is an error.\n"
     ]
    }
   ],
   "source": [
    "import logging\n",
    "from logging.handlers import RotatingFileHandler\n",
    "\n",
    "# Reset existing loggers (helpful in Jupyter to avoid duplicate logs)\n",
    "for handler in logging.root.handlers[:]:\n",
    "    logging.root.removeHandler(handler)\n",
    "\n",
    "# Create a logger\n",
    "logger = logging.getLogger(\"NotebookLogger\")\n",
    "logger.setLevel(logging.DEBUG)\n",
    "\n",
    "# File handler with rotation\n",
    "file_handler = RotatingFileHandler(\n",
    "    \"notebook_app.log\", \n",
    "    maxBytes=1_000_000,  # 1 MB\n",
    "    backupCount=5\n",
    ")\n",
    "file_formatter = logging.Formatter('%(asctime)s - %(levelname)s - %(message)s')\n",
    "file_handler.setFormatter(file_formatter)\n",
    "\n",
    "# Console handler (for Jupyter output)\n",
    "console_handler = logging.StreamHandler()\n",
    "console_formatter = logging.Formatter('%(levelname)s: %(message)s')\n",
    "console_handler.setFormatter(console_formatter)\n",
    "\n",
    "# Add handlers (avoid duplicates if re-running cells)\n",
    "if not logger.handlers:\n",
    "    logger.addHandler(file_handler)\n",
    "    logger.addHandler(console_handler)\n",
    "\n",
    "# Example logs\n",
    "logger.info(\"Notebook logger initialized.\")\n",
    "logger.debug(\"This is a debug message.\")\n",
    "logger.warning(\"This is a warning.\")\n",
    "logger.error(\"This is an error.\")\n"
   ]
  },
  {
   "cell_type": "markdown",
   "id": "f5216104-627a-4a22-bbc3-731a11a347df",
   "metadata": {},
   "source": [
    "# 19. Write a program that handles both IndexError and KeyError using a try-except block."
   ]
  },
  {
   "cell_type": "code",
   "execution_count": 2,
   "id": "3c6853cc-6a5b-4ffd-be22-18858793a5a7",
   "metadata": {},
   "outputs": [
    {
     "name": "stdout",
     "output_type": "stream",
     "text": [
      "IndexError occurred: list index out of range\n"
     ]
    }
   ],
   "source": [
    "my_list = [1, 2, 3]\n",
    "my_dict = {\"name\": \"Virat\", \"age\": 36}\n",
    "\n",
    "# Try block to handle both IndexError and KeyError\n",
    "try:\n",
    "    # Trying to access an index that doesn't exist in the list\n",
    "    print(my_list[5])  # This will raise IndexError\n",
    "\n",
    "    # Trying to access a key that doesn't exist in the dictionary\n",
    "    print(my_dict[\"address\"])  # This will raise KeyError\n",
    "\n",
    "except IndexError as e:\n",
    "    print(f\"IndexError occurred: {e}\")\n",
    "\n",
    "except KeyError as e:\n",
    "    print(f\"KeyError occurred: {e}\")\n",
    "     "
   ]
  },
  {
   "cell_type": "markdown",
   "id": "2f0f6ce8-fdab-4712-89b2-b47d936261e4",
   "metadata": {},
   "source": [
    "# 20. How would you open a file and read its contents using a context manager in Python?"
   ]
  },
  {
   "cell_type": "code",
   "execution_count": 3,
   "id": "a39f5783-8107-4025-82ba-befdadaca09b",
   "metadata": {},
   "outputs": [
    {
     "name": "stdout",
     "output_type": "stream",
     "text": [
      "Hello, this is a test string!\n",
      "This is new data appended to the file.\n",
      "This is new data appended to the file.\n"
     ]
    }
   ],
   "source": [
    "file_path = \"example.txt\"\n",
    "\n",
    "# Using a context manager to open and read the file\n",
    "with open(file_path, 'r') as file:\n",
    "    content = file.read()  # Read the entire content of the file\n",
    "\n",
    "    if content:  # If the file is not empty\n",
    "        print(content)\n",
    "    else:\n",
    "        print(\"The file is empty.\")"
   ]
  },
  {
   "cell_type": "markdown",
   "id": "e456ca3b-9b68-45c0-b71c-3d0ed6e95572",
   "metadata": {},
   "source": [
    "# 21. Write a Python program that reads a file and prints the number of occurrences of a specific word."
   ]
  },
  {
   "cell_type": "code",
   "execution_count": 4,
   "id": "2b0a2496-572c-4156-903a-2d24fa60d62c",
   "metadata": {},
   "outputs": [
    {
     "name": "stdout",
     "output_type": "stream",
     "text": [
      "The word 'python' does not occur in the file.\n"
     ]
    }
   ],
   "source": [
    "def count_word_occurrences(file_path, target_word):\n",
    "    try:\n",
    "        # Open the file in read mode using a context manager\n",
    "        with open(file_path, 'r') as file:\n",
    "            # Initialize a counter for the occurrences of the word\n",
    "            word_count = 0\n",
    "\n",
    "            # Read the file line by line\n",
    "            for line in file:\n",
    "                # Split the line into words and count the occurrences of the target word\n",
    "                word_count += line.lower().split().count(target_word.lower())\n",
    "\n",
    "        # Return the total number of occurrences\n",
    "        return word_count\n",
    "\n",
    "    except FileNotFoundError:\n",
    "        print(f\"Error: The file '{file_path}' does not exist.\")\n",
    "        return 0\n",
    "\n",
    "# Define the file path and the target word\n",
    "file_path = \"example.txt\"\n",
    "target_word = \"python\"\n",
    "\n",
    "# Count the occurrences of the target word in the file\n",
    "occurrences = count_word_occurrences(file_path, target_word)\n",
    "\n",
    "# Print the result\n",
    "if occurrences > 0:\n",
    "    print(f\"The word '{target_word}' occurs {occurrences} time(s) in the file.\")\n",
    "else:\n",
    "    print(f\"The word '{target_word}' does not occur in the file.\")"
   ]
  },
  {
   "cell_type": "markdown",
   "id": "22eb58e5-9b5b-46dc-bb8f-88d18ebe5dd2",
   "metadata": {},
   "source": [
    "# 22. How can you check if a file is empty before attempting to read its contents?"
   ]
  },
  {
   "cell_type": "code",
   "execution_count": 5,
   "id": "83b273be-1148-4d82-8bc2-f46932479ff8",
   "metadata": {},
   "outputs": [
    {
     "name": "stdout",
     "output_type": "stream",
     "text": [
      "File content:\n",
      "Hello, this is a test string!\n",
      "This is new data appended to the file.\n",
      "This is new data appended to the file.\n"
     ]
    }
   ],
   "source": [
    "import os\n",
    "\n",
    "# Function to check if the file is empty\n",
    "def is_file_empty(file_path):\n",
    "    return os.path.getsize(file_path) == 0\n",
    "\n",
    "# File path\n",
    "file_path = \"example.txt\"\n",
    "\n",
    "# Check if the file is empty\n",
    "if is_file_empty(file_path):\n",
    "    print(f\"The file '{file_path}' is empty.\")\n",
    "else:\n",
    "    with open(file_path, 'r') as file:\n",
    "        content = file.read()\n",
    "        print(\"File content:\")\n",
    "        print(content)"
   ]
  },
  {
   "cell_type": "markdown",
   "id": "4395608d-3e58-40ac-849c-ab323f945a2f",
   "metadata": {},
   "source": [
    "# 23. Write a Python program that writes to a log file when an error occurs during file handling."
   ]
  },
  {
   "cell_type": "code",
   "execution_count": 7,
   "id": "d4675292-758f-4bd8-bfaf-2bd0e81b2164",
   "metadata": {},
   "outputs": [
    {
     "name": "stdout",
     "output_type": "stream",
     "text": [
      "Hello, this is a test string!\n",
      "This is new data appended to the file.\n",
      "This is new data appended to the file.\n"
     ]
    }
   ],
   "source": [
    "import logging\n",
    "\n",
    "\n",
    "logging.basicConfig(\n",
    "    filename='file_handling_errors.log',  # Log file name\n",
    "    level=logging.ERROR,                  # Set the logging level to ERROR\n",
    "    format='%(asctime)s - %(levelname)s - %(message)s'  # Log format with timestamp\n",
    ")\n",
    "\n",
    "\n",
    "def read_file(file_path):\n",
    "    try:\n",
    "       \n",
    "        with open(file_path, 'r') as file:\n",
    "            content = file.read()\n",
    "            print(content)  \n",
    "    except FileNotFoundError as e:\n",
    "       \n",
    "        logging.error(f\"File not found: {file_path} - {e}\")\n",
    "        print(f\"Error: The file '{file_path}' was not found.\")\n",
    "    except PermissionError as e:\n",
    "       \n",
    "        logging.error(f\"Permission error: {file_path} - {e}\")\n",
    "        print(f\"Error: Permission denied for the file '{file_path}'.\")\n",
    "    except Exception as e:\n",
    "        \n",
    "        logging.error(f\"Unexpected error with file {file_path} - {e}\")\n",
    "        print(f\"An unexpected error occurred with the file '{file_path}'.\")\n",
    "\n",
    "\n",
    "file_path = \"example.txt\"\n",
    "read_file(file_path)"
   ]
  },
  {
   "cell_type": "code",
   "execution_count": null,
   "id": "8c32d106-7ff8-46f0-b182-d346d868b008",
   "metadata": {},
   "outputs": [],
   "source": []
  }
 ],
 "metadata": {
  "kernelspec": {
   "display_name": "Python 3 (ipykernel)",
   "language": "python",
   "name": "python3"
  },
  "language_info": {
   "codemirror_mode": {
    "name": "ipython",
    "version": 3
   },
   "file_extension": ".py",
   "mimetype": "text/x-python",
   "name": "python",
   "nbconvert_exporter": "python",
   "pygments_lexer": "ipython3",
   "version": "3.12.7"
  }
 },
 "nbformat": 4,
 "nbformat_minor": 5
}
